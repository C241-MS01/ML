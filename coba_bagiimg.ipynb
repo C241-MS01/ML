{
  "nbformat": 4,
  "nbformat_minor": 0,
  "metadata": {
    "colab": {
      "provenance": []
    },
    "kernelspec": {
      "name": "python3",
      "display_name": "Python 3"
    },
    "language_info": {
      "name": "python"
    }
  },
  "cells": [
    {
      "cell_type": "code",
      "execution_count": null,
      "metadata": {
        "colab": {
          "base_uri": "https://localhost:8080/"
        },
        "id": "xpcwIFAs8fBM",
        "outputId": "734a1fa7-d274-4d61-ac56-9c482ee18611"
      },
      "outputs": [
        {
          "output_type": "stream",
          "name": "stdout",
          "text": [
            "fatal: destination path 'yolov5' already exists and is not an empty directory.\n",
            "/content/yolov5\n",
            "HEAD is now at fbe67e46 Fix `OMP_NUM_THREADS=1` for macOS (#8624)\n"
          ]
        }
      ],
      "source": [
        "# clone YOLOv5 repository\n",
        "!git clone https://github.com/ultralytics/yolov5  # clone repo\n",
        "%cd yolov5\n",
        "!git reset --hard fbe67e465375231474a2ad80a4389efc77ecff99"
      ]
    },
    {
      "cell_type": "code",
      "source": [
        "# install dependencies as necessary\n",
        "!pip install -qr requirements.txt  # install dependencies (ignore errors)\n",
        "import torch\n",
        "\n",
        "from IPython.display import Image, clear_output  # to display images\n",
        "from utils.downloads import attempt_download  # to download models/datasets\n",
        "\n",
        "# clear_output()\n",
        "print('Setup complete. Using torch %s %s' % (torch.__version__, torch.cuda.get_device_properties(0) if torch.cuda.is_available() else 'CPU'))"
      ],
      "metadata": {
        "colab": {
          "base_uri": "https://localhost:8080/"
        },
        "id": "Q53RO8E08mtl",
        "outputId": "310a8ad8-a080-4ac6-aab0-34b49101396d"
      },
      "execution_count": null,
      "outputs": [
        {
          "output_type": "stream",
          "name": "stdout",
          "text": [
            "Setup complete. Using torch 2.3.0+cu121 CPU\n"
          ]
        }
      ]
    },
    {
      "cell_type": "code",
      "execution_count": null,
      "metadata": {
        "colab": {
          "base_uri": "https://localhost:8080/"
        },
        "id": "qck8c4J8R3q7",
        "outputId": "8a3be51d-e9e8-4590-b799-990db006c2fd"
      },
      "outputs": [
        {
          "output_type": "stream",
          "name": "stdout",
          "text": [
            "Requirement already satisfied: roboflow in /usr/local/lib/python3.10/dist-packages (1.1.30)\n",
            "Requirement already satisfied: certifi==2023.7.22 in /usr/local/lib/python3.10/dist-packages (from roboflow) (2023.7.22)\n",
            "Requirement already satisfied: chardet==4.0.0 in /usr/local/lib/python3.10/dist-packages (from roboflow) (4.0.0)\n",
            "Requirement already satisfied: cycler==0.10.0 in /usr/local/lib/python3.10/dist-packages (from roboflow) (0.10.0)\n",
            "Requirement already satisfied: idna==2.10 in /usr/local/lib/python3.10/dist-packages (from roboflow) (2.10)\n",
            "Requirement already satisfied: kiwisolver>=1.3.1 in /usr/local/lib/python3.10/dist-packages (from roboflow) (1.4.5)\n",
            "Requirement already satisfied: matplotlib in /usr/local/lib/python3.10/dist-packages (from roboflow) (3.7.1)\n",
            "Requirement already satisfied: numpy>=1.18.5 in /usr/local/lib/python3.10/dist-packages (from roboflow) (1.25.2)\n",
            "Requirement already satisfied: opencv-python-headless==4.8.0.74 in /usr/local/lib/python3.10/dist-packages (from roboflow) (4.8.0.74)\n",
            "Requirement already satisfied: Pillow>=7.1.2 in /usr/local/lib/python3.10/dist-packages (from roboflow) (9.4.0)\n",
            "Requirement already satisfied: python-dateutil in /usr/local/lib/python3.10/dist-packages (from roboflow) (2.8.2)\n",
            "Requirement already satisfied: python-dotenv in /usr/local/lib/python3.10/dist-packages (from roboflow) (1.0.1)\n",
            "Requirement already satisfied: requests in /usr/local/lib/python3.10/dist-packages (from roboflow) (2.31.0)\n",
            "Requirement already satisfied: six in /usr/local/lib/python3.10/dist-packages (from roboflow) (1.16.0)\n",
            "Requirement already satisfied: urllib3>=1.26.6 in /usr/local/lib/python3.10/dist-packages (from roboflow) (2.0.7)\n",
            "Requirement already satisfied: tqdm>=4.41.0 in /usr/local/lib/python3.10/dist-packages (from roboflow) (4.66.4)\n",
            "Requirement already satisfied: PyYAML>=5.3.1 in /usr/local/lib/python3.10/dist-packages (from roboflow) (6.0.1)\n",
            "Requirement already satisfied: requests-toolbelt in /usr/local/lib/python3.10/dist-packages (from roboflow) (1.0.0)\n",
            "Requirement already satisfied: python-magic in /usr/local/lib/python3.10/dist-packages (from roboflow) (0.4.27)\n",
            "Requirement already satisfied: contourpy>=1.0.1 in /usr/local/lib/python3.10/dist-packages (from matplotlib->roboflow) (1.2.1)\n",
            "Requirement already satisfied: fonttools>=4.22.0 in /usr/local/lib/python3.10/dist-packages (from matplotlib->roboflow) (4.51.0)\n",
            "Requirement already satisfied: packaging>=20.0 in /usr/local/lib/python3.10/dist-packages (from matplotlib->roboflow) (24.0)\n",
            "Requirement already satisfied: pyparsing>=2.3.1 in /usr/local/lib/python3.10/dist-packages (from matplotlib->roboflow) (3.1.2)\n",
            "Requirement already satisfied: charset-normalizer<4,>=2 in /usr/local/lib/python3.10/dist-packages (from requests->roboflow) (3.3.2)\n",
            "loading Roboflow workspace...\n",
            "loading Roboflow project...\n"
          ]
        }
      ],
      "source": [
        "!pip install roboflow\n",
        "\n",
        "from roboflow import Roboflow\n",
        "rf = Roboflow(api_key=\"wLcs5jy21EsrfRws42Vo\")\n",
        "project = rf.workspace(\"driver-wlf6m\").project(\"driverv1\")\n",
        "version = project.version(3)\n",
        "dataset = version.download(\"yolov5\")\n"
      ]
    },
    {
      "cell_type": "code",
      "source": [
        "import os\n",
        "import shutil\n",
        "import random\n"
      ],
      "metadata": {
        "id": "n8MgSvQJeeHi"
      },
      "execution_count": null,
      "outputs": []
    },
    {
      "cell_type": "code",
      "source": [
        "\n",
        "# Function to split the dataset into train, validation, and test\n",
        "def split_dataset(dataset_dir, output_dir, train_ratio=0.7, val_ratio=0.15, test_ratio=0.15):\n",
        "    assert train_ratio + val_ratio + test_ratio == 1.0, \"Ratios must sum to 1.0\"\n",
        "\n",
        "    # Create train, validation, and test directories\n",
        "    train_dir = os.path.join(output_dir, \"train\")\n",
        "    val_dir = os.path.join(output_dir, \"val\")\n",
        "    test_dir = os.path.join(output_dir, \"test\")\n",
        "\n",
        "    for dir in [train_dir, val_dir, test_dir]:\n",
        "        if not os.path.exists(dir):\n",
        "            os.makedirs(dir)\n",
        "\n",
        "    # Split dataset into train, validation, and test\n",
        "    for class_name in os.listdir(dataset_dir):\n",
        "        class_dir = os.path.join(dataset_dir, class_name)\n",
        "        if os.path.isdir(class_dir):\n",
        "            files = os.listdir(class_dir)\n",
        "            random.shuffle(files)\n",
        "            num_files = len(files)\n",
        "\n",
        "            train_end = int(train_ratio * num_files)\n",
        "            val_end = int((train_ratio + val_ratio) * num_files)\n",
        "\n",
        "            # Move files to train, validation, and test directories\n",
        "            for i, file in enumerate(files):\n",
        "                src_file = os.path.join(class_dir, file)\n",
        "                if i < train_end:\n",
        "                    dst_dir = train_dir\n",
        "                elif i < val_end:\n",
        "                    dst_dir = val_dir\n",
        "                else:\n",
        "                    dst_dir = test_dir\n",
        "\n",
        "                if not os.path.exists(os.path.join(dst_dir, class_name)):\n",
        "                    os.makedirs(os.path.join(dst_dir, class_name))\n",
        "\n",
        "                if os.path.isfile(src_file):\n",
        "                    dst_file = os.path.join(dst_dir, class_name, file)\n",
        "                    shutil.copy(src_file, dst_file)\n"
      ],
      "metadata": {
        "id": "jT0C57DgemPd"
      },
      "execution_count": null,
      "outputs": []
    },
    {
      "cell_type": "code",
      "source": [
        "# Fungsi untuk menyamakan jumlah sampel setiap kelas\n",
        "def balance_classes(dataset_dir, target_count):\n",
        "    for class_name in os.listdir(dataset_dir):\n",
        "        class_dir = os.path.join(dataset_dir, class_name)\n",
        "        if os.path.isdir(class_dir):\n",
        "            files = os.listdir(class_dir)\n",
        "            num_files = len(files)\n",
        "            if num_files > target_count:\n",
        "                excess_files = files[target_count:]\n",
        "                for file in excess_files:\n",
        "                    src_file = os.path.join(class_dir, file)\n",
        "                    dst_dir = os.path.join(dataset_dir, file.split('.')[0])  # Nama folder sesuai dengan nama file\n",
        "                    dst_file = os.path.join(dst_dir, file)\n",
        "                    if not os.path.exists(dst_dir):\n",
        "                        os.makedirs(dst_dir)\n",
        "                    shutil.move(src_file, dst_file)\n",
        "\n",
        "# Mengatur direktori dataset\n",
        "dataset_dir = \"/content/yolov5/DriverV1-3\"\n",
        "output_dir = \"/content/Processed_Dataset\"\n",
        "\n"
      ],
      "metadata": {
        "id": "L_qO0kMeepbj"
      },
      "execution_count": null,
      "outputs": []
    },
    {
      "cell_type": "code",
      "source": [
        "\n",
        "# Memisahkan dataset menjadi train, validation, dan test\n",
        "split_dataset(dataset_dir, output_dir)"
      ],
      "metadata": {
        "id": "Ow2hVpkkgqH6"
      },
      "execution_count": null,
      "outputs": []
    },
    {
      "cell_type": "code",
      "source": [
        "# Menyamakan jumlah sampel setiap kelas\n",
        "target_count = 1000\n",
        "for split in [\"train\", \"val\", \"test\"]:\n",
        "    balance_classes(os.path.join(output_dir, split), target_count)"
      ],
      "metadata": {
        "id": "mIy9wkpees5s"
      },
      "execution_count": null,
      "outputs": []
    },
    {
      "cell_type": "code",
      "source": [
        "from google.colab import files\n",
        "\n",
        "# Mengompres folder output_dir menjadi file zip\n",
        "shutil.make_archive(\"/content/Processed_Dataset\", 'zip', output_dir)\n",
        "\n",
        "# Mengunduh file zip\n",
        "files.download(\"/content/Processed_Dataset.zip\")\n"
      ],
      "metadata": {
        "id": "TJMAqIwDhT5U",
        "colab": {
          "base_uri": "https://localhost:8080/",
          "height": 17
        },
        "outputId": "ddcfb878-afe6-430b-c429-1b6d8a35e27c"
      },
      "execution_count": null,
      "outputs": [
        {
          "output_type": "display_data",
          "data": {
            "text/plain": [
              "<IPython.core.display.Javascript object>"
            ],
            "application/javascript": [
              "\n",
              "    async function download(id, filename, size) {\n",
              "      if (!google.colab.kernel.accessAllowed) {\n",
              "        return;\n",
              "      }\n",
              "      const div = document.createElement('div');\n",
              "      const label = document.createElement('label');\n",
              "      label.textContent = `Downloading \"${filename}\": `;\n",
              "      div.appendChild(label);\n",
              "      const progress = document.createElement('progress');\n",
              "      progress.max = size;\n",
              "      div.appendChild(progress);\n",
              "      document.body.appendChild(div);\n",
              "\n",
              "      const buffers = [];\n",
              "      let downloaded = 0;\n",
              "\n",
              "      const channel = await google.colab.kernel.comms.open(id);\n",
              "      // Send a message to notify the kernel that we're ready.\n",
              "      channel.send({})\n",
              "\n",
              "      for await (const message of channel.messages) {\n",
              "        // Send a message to notify the kernel that we're ready.\n",
              "        channel.send({})\n",
              "        if (message.buffers) {\n",
              "          for (const buffer of message.buffers) {\n",
              "            buffers.push(buffer);\n",
              "            downloaded += buffer.byteLength;\n",
              "            progress.value = downloaded;\n",
              "          }\n",
              "        }\n",
              "      }\n",
              "      const blob = new Blob(buffers, {type: 'application/binary'});\n",
              "      const a = document.createElement('a');\n",
              "      a.href = window.URL.createObjectURL(blob);\n",
              "      a.download = filename;\n",
              "      div.appendChild(a);\n",
              "      a.click();\n",
              "      div.remove();\n",
              "    }\n",
              "  "
            ]
          },
          "metadata": {}
        },
        {
          "output_type": "display_data",
          "data": {
            "text/plain": [
              "<IPython.core.display.Javascript object>"
            ],
            "application/javascript": [
              "download(\"download_4a54a6cb-6e01-41b8-872e-3ecec3f1ef0d\", \"Processed_Dataset.zip\", 870)"
            ]
          },
          "metadata": {}
        }
      ]
    }
  ]
}