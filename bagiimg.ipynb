{
  "nbformat": 4,
  "nbformat_minor": 0,
  "metadata": {
    "colab": {
      "provenance": []
    },
    "kernelspec": {
      "name": "python3",
      "display_name": "Python 3"
    },
    "language_info": {
      "name": "python"
    }
  },
  "cells": [
    {
      "cell_type": "code",
      "execution_count": null,
      "metadata": {
        "colab": {
          "base_uri": "https://localhost:8080/"
        },
        "id": "xpcwIFAs8fBM",
        "outputId": "0e0ff688-9539-4bd9-d149-9cb4fd5353ad"
      },
      "outputs": [
        {
          "output_type": "stream",
          "name": "stdout",
          "text": [
            "Cloning into 'yolov5'...\n",
            "remote: Enumerating objects: 16625, done.\u001b[K\n",
            "remote: Counting objects: 100% (103/103), done.\u001b[K\n",
            "remote: Compressing objects: 100% (73/73), done.\u001b[K\n",
            "remote: Total 16625 (delta 58), reused 65 (delta 30), pack-reused 16522\u001b[K\n",
            "Receiving objects: 100% (16625/16625), 15.10 MiB | 18.97 MiB/s, done.\n",
            "Resolving deltas: 100% (11417/11417), done.\n",
            "/content/yolov5\n",
            "HEAD is now at fbe67e46 Fix `OMP_NUM_THREADS=1` for macOS (#8624)\n"
          ]
        }
      ],
      "source": [
        "# clone YOLOv5 repository\n",
        "!git clone https://github.com/ultralytics/yolov5  # clone repo\n",
        "%cd yolov5\n",
        "!git reset --hard fbe67e465375231474a2ad80a4389efc77ecff99"
      ]
    },
    {
      "cell_type": "code",
      "source": [
        "# install dependencies as necessary\n",
        "!pip install -qr requirements.txt  # install dependencies (ignore errors)\n",
        "import torch\n",
        "\n",
        "from IPython.display import Image, clear_output  # to display images\n",
        "from utils.downloads import attempt_download  # to download models/datasets\n",
        "\n",
        "# clear_output()\n",
        "print('Setup complete. Using torch %s %s' % (torch.__version__, torch.cuda.get_device_properties(0) if torch.cuda.is_available() else 'CPU'))"
      ],
      "metadata": {
        "colab": {
          "base_uri": "https://localhost:8080/"
        },
        "id": "Q53RO8E08mtl",
        "outputId": "c30b0507-73ae-4628-e533-b25a0d666996"
      },
      "execution_count": null,
      "outputs": [
        {
          "output_type": "stream",
          "name": "stdout",
          "text": [
            "\u001b[2K     \u001b[90m━━━━━━━━━━━━━━━━━━━━━━━━━━━━━━━━━━━━━━━━\u001b[0m \u001b[32m21.3/21.3 MB\u001b[0m \u001b[31m50.1 MB/s\u001b[0m eta \u001b[36m0:00:00\u001b[0m\n",
            "\u001b[2K     \u001b[90m━━━━━━━━━━━━━━━━━━━━━━━━━━━━━━━━━━━━━━━━\u001b[0m \u001b[32m1.6/1.6 MB\u001b[0m \u001b[31m52.4 MB/s\u001b[0m eta \u001b[36m0:00:00\u001b[0m\n",
            "\u001b[?25hSetup complete. Using torch 2.3.0+cu121 CPU\n"
          ]
        }
      ]
    },
    {
      "cell_type": "code",
      "execution_count": null,
      "metadata": {
        "colab": {
          "base_uri": "https://localhost:8080/"
        },
        "id": "qck8c4J8R3q7",
        "outputId": "e7ecc583-5cc3-4d7c-d0ca-1a5feaaed400"
      },
      "outputs": [
        {
          "output_type": "stream",
          "name": "stdout",
          "text": [
            "Requirement already satisfied: roboflow in /usr/local/lib/python3.10/dist-packages (1.1.30)\n",
            "Requirement already satisfied: certifi==2023.7.22 in /usr/local/lib/python3.10/dist-packages (from roboflow) (2023.7.22)\n",
            "Requirement already satisfied: chardet==4.0.0 in /usr/local/lib/python3.10/dist-packages (from roboflow) (4.0.0)\n",
            "Requirement already satisfied: cycler==0.10.0 in /usr/local/lib/python3.10/dist-packages (from roboflow) (0.10.0)\n",
            "Requirement already satisfied: idna==2.10 in /usr/local/lib/python3.10/dist-packages (from roboflow) (2.10)\n",
            "Requirement already satisfied: kiwisolver>=1.3.1 in /usr/local/lib/python3.10/dist-packages (from roboflow) (1.4.5)\n",
            "Requirement already satisfied: matplotlib in /usr/local/lib/python3.10/dist-packages (from roboflow) (3.7.1)\n",
            "Requirement already satisfied: numpy>=1.18.5 in /usr/local/lib/python3.10/dist-packages (from roboflow) (1.25.2)\n",
            "Requirement already satisfied: opencv-python-headless==4.8.0.74 in /usr/local/lib/python3.10/dist-packages (from roboflow) (4.8.0.74)\n",
            "Requirement already satisfied: Pillow>=7.1.2 in /usr/local/lib/python3.10/dist-packages (from roboflow) (9.4.0)\n",
            "Requirement already satisfied: python-dateutil in /usr/local/lib/python3.10/dist-packages (from roboflow) (2.8.2)\n",
            "Requirement already satisfied: python-dotenv in /usr/local/lib/python3.10/dist-packages (from roboflow) (1.0.1)\n",
            "Requirement already satisfied: requests in /usr/local/lib/python3.10/dist-packages (from roboflow) (2.31.0)\n",
            "Requirement already satisfied: six in /usr/local/lib/python3.10/dist-packages (from roboflow) (1.16.0)\n",
            "Requirement already satisfied: urllib3>=1.26.6 in /usr/local/lib/python3.10/dist-packages (from roboflow) (2.0.7)\n",
            "Requirement already satisfied: tqdm>=4.41.0 in /usr/local/lib/python3.10/dist-packages (from roboflow) (4.66.4)\n",
            "Requirement already satisfied: PyYAML>=5.3.1 in /usr/local/lib/python3.10/dist-packages (from roboflow) (6.0.1)\n",
            "Requirement already satisfied: requests-toolbelt in /usr/local/lib/python3.10/dist-packages (from roboflow) (1.0.0)\n",
            "Requirement already satisfied: python-magic in /usr/local/lib/python3.10/dist-packages (from roboflow) (0.4.27)\n",
            "Requirement already satisfied: contourpy>=1.0.1 in /usr/local/lib/python3.10/dist-packages (from matplotlib->roboflow) (1.2.1)\n",
            "Requirement already satisfied: fonttools>=4.22.0 in /usr/local/lib/python3.10/dist-packages (from matplotlib->roboflow) (4.51.0)\n",
            "Requirement already satisfied: packaging>=20.0 in /usr/local/lib/python3.10/dist-packages (from matplotlib->roboflow) (24.0)\n",
            "Requirement already satisfied: pyparsing>=2.3.1 in /usr/local/lib/python3.10/dist-packages (from matplotlib->roboflow) (3.1.2)\n",
            "Requirement already satisfied: charset-normalizer<4,>=2 in /usr/local/lib/python3.10/dist-packages (from requests->roboflow) (3.3.2)\n",
            "loading Roboflow workspace...\n",
            "loading Roboflow project...\n"
          ]
        },
        {
          "output_type": "stream",
          "name": "stderr",
          "text": [
            "Downloading Dataset Version Zip in DriverV1-3 to yolov5pytorch:: 100%|██████████| 2224533/2224533 [00:47<00:00, 47041.76it/s]"
          ]
        },
        {
          "output_type": "stream",
          "name": "stdout",
          "text": [
            "\n"
          ]
        },
        {
          "output_type": "stream",
          "name": "stderr",
          "text": [
            "\n",
            "Extracting Dataset Version Zip to DriverV1-3 in yolov5pytorch:: 100%|██████████| 112946/112946 [00:32<00:00, 3518.80it/s]\n"
          ]
        }
      ],
      "source": [
        "!pip install roboflow\n",
        "\n",
        "from roboflow import Roboflow\n",
        "rf = Roboflow(api_key=\"wLcs5jy21EsrfRws42Vo\")\n",
        "project = rf.workspace(\"driver-wlf6m\").project(\"driverv1\")\n",
        "version = project.version(3)\n",
        "dataset = version.download(\"yolov5\")\n"
      ]
    },
    {
      "cell_type": "code",
      "source": [
        "import os\n",
        "import shutil\n",
        "from glob import glob\n",
        "import cv2\n",
        "import numpy as np\n",
        "from imgaug import augmenters as iaa"
      ],
      "metadata": {
        "id": "FcdoWiMl2DHF"
      },
      "execution_count": null,
      "outputs": []
    },
    {
      "cell_type": "code",
      "source": [
        "base_dir = \"/content/DriverV1-3\"  # Ubah sesuai dengan jalur dataset yang diunduh\n",
        "folders = ['train', 'valid', 'test']\n",
        "classes = os.listdir(os.path.join(base_dir, 'train', 'images'))"
      ],
      "metadata": {
        "id": "PyUEp6jq4H7a"
      },
      "execution_count": null,
      "outputs": []
    },
    {
      "cell_type": "code",
      "source": [
        "def move_excess_files(base_dir, folder, classes, target_count=1000):\n",
        "    for cls in classes:\n",
        "        img_files = glob(os.path.join(base_dir, folder, 'images', cls, '*.jpg'))\n",
        "        lbl_files = glob(os.path.join(base_dir, folder, 'labels', cls, '*.txt'))\n",
        "\n",
        "        excess_img_dir = os.path.join(base_dir, folder, 'excess', 'images', cls)\n",
        "        excess_lbl_dir = os.path.join(base_dir, folder, 'excess', 'labels', cls)\n",
        "\n",
        "        os.makedirs(excess_img_dir, exist_ok=True)\n",
        "        os.makedirs(excess_lbl_dir, exist_ok=True)\n",
        "\n",
        "        if len(img_files) > target_count:\n",
        "            excess_imgs = img_files[target_count:]\n",
        "            excess_lbls = lbl_files[target_count:]\n",
        "\n",
        "            for img_file in excess_imgs:\n",
        "                shutil.move(img_file, excess_img_dir)\n",
        "            for lbl_file in excess_lbls:\n",
        "                shutil.move(lbl_file, excess_lbl_dir)"
      ],
      "metadata": {
        "id": "wCnIa9ka4PYW"
      },
      "execution_count": null,
      "outputs": []
    },
    {
      "cell_type": "code",
      "source": [
        "def balance_dataset(base_dir, folder, classes, target_count=1000):\n",
        "    for cls in classes:\n",
        "        img_files = glob(os.path.join(base_dir, folder, 'images', cls, '*.jpg'))\n",
        "        lbl_files = glob(os.path.join(base_dir, folder, 'labels', cls, '*.txt'))\n",
        "\n",
        "        if len(img_files) < target_count:\n",
        "            excess_img_dir = os.path.join(base_dir, folder, 'excess', 'images', cls)\n",
        "            excess_lbl_dir = os.path.join(base_dir, folder, 'excess', 'labels', cls)\n",
        "\n",
        "            excess_imgs = glob(os.path.join(excess_img_dir, '*.jpg'))\n",
        "            excess_lbls = glob(os.path.join(excess_lbl_dir, '*.txt'))\n",
        "\n",
        "            to_move = min(target_count - len(img_files), len(excess_imgs))\n",
        "\n",
        "            for img_file in excess_imgs[:to_move]:\n",
        "                shutil.move(img_file, os.path.join(base_dir, folder, 'images', cls))\n",
        "            for lbl_file in excess_lbls[:to_move]:\n",
        "                shutil.move(lbl_file, os.path.join(base_dir, folder, 'labels', cls))\n",
        "\n",
        "            img_files = glob(os.path.join(base_dir, folder, 'images', cls, '*.jpg'))\n",
        "            lbl_files = glob(os.path.join(base_dir, folder, 'labels', cls, '*.txt'))\n",
        "\n",
        "        # Data augmentation jika masih kurang\n",
        "        if len(img_files) < target_count:\n",
        "            seq = iaa.Sequential([\n",
        "                iaa.Fliplr(0.5),\n",
        "                iaa.Affine(rotate=(-10, 10)),\n",
        "                iaa.Multiply((0.8, 1.2))\n",
        "            ])\n",
        "\n",
        "            while len(img_files) < target_count:\n",
        "                for img_file in img_files:\n",
        "                    if len(img_files) >= target_count:\n",
        "                        break\n",
        "\n",
        "                    img = cv2.imread(img_file)\n",
        "                    img_aug = seq.augment_image(img)\n",
        "\n",
        "                    base_name = os.path.basename(img_file)\n",
        "                    name, ext = os.path.splitext(base_name)\n",
        "\n",
        "                    new_img_name = f\"{name}_aug{len(img_files)}{ext}\"\n",
        "                    new_lbl_name = f\"{name}_aug{len(lbl_files)}.txt\"\n",
        "\n",
        "                    cv2.imwrite(os.path.join(base_dir, folder, 'images', cls, new_img_name), img_aug)\n",
        "                    shutil.copyfile(\n",
        "                        os.path.join(base_dir, folder, 'labels', cls, f\"{name}.txt\"),\n",
        "                        os.path.join(base_dir, folder, 'labels', cls, new_lbl_name)\n",
        "                    )\n",
        "\n",
        "                    img_files.append(new_img_name)\n",
        "                    lbl_files.append(new_lbl_name)\n"
      ],
      "metadata": {
        "id": "qnF7o7WZ4XhV"
      },
      "execution_count": null,
      "outputs": []
    },
    {
      "cell_type": "code",
      "source": [
        "for folder in folders:\n",
        "    move_excess_files(base_dir, folder, classes, target_count=1000)\n",
        "    balance_dataset(base_dir, folder, classes, target_count=1000)\n",
        "\n",
        "print(\"Dataset has been balanced successfully.\")"
      ],
      "metadata": {
        "id": "KAbfykla4rUn"
      },
      "execution_count": null,
      "outputs": []
    }
  ]
}